{
 "cells": [
  {
   "cell_type": "markdown",
   "metadata": {},
   "source": [
    "### Building a neural network with TensorFlow\n",
    "#### In this module we are going to build a neural network for regression. Regression is the prediction of a real-valued number given some inputs. "
   ]
  },
  {
   "cell_type": "code",
   "execution_count": 27,
   "metadata": {
    "collapsed": true
   },
   "outputs": [],
   "source": [
    "import tensorflow as tf\n",
    "import numpy as np\n",
    "import matplotlib.pyplot as plt\n",
    "%matplotlib inline"
   ]
  },
  {
   "cell_type": "markdown",
   "metadata": {},
   "source": [
    "#### Let's generate some data, in this case, a noisy sine wave as plotted below"
   ]
  },
  {
   "cell_type": "code",
   "execution_count": 46,
   "metadata": {
    "collapsed": true
   },
   "outputs": [],
   "source": [
    "n_observations = 1000\n",
    "xs = np.linspace(-3.0, 3.0, n_observations)\n",
    "ys = np.sin(xs) + np.random.uniform(-0.5, 0.5, n_observations)"
   ]
  },
  {
   "cell_type": "code",
   "execution_count": 47,
   "metadata": {
    "collapsed": false
   },
   "outputs": [
    {
     "data": {
      "image/png": "[encoded data removed]",
      "text/plain": [
       "<matplotlib.figure.Figure at 0x7f57f46d54d0>"
      ]
     },
     "metadata": {},
     "output_type": "display_data"
    }
   ],
   "source": [
    "plt.scatter(xs, ys, alpha=0.15, marker = '+')\n",
    "plt.show()\n",
    "# alpha makes the points transparent and marker changes it from dots to +'s"
   ]
  },
  {
   "cell_type": "markdown",
   "metadata": {},
   "source": [
    "#### We are going to use placeholders from now on. Placeholder for X and Y are as follows"
   ]
  },
  {
   "cell_type": "code",
   "execution_count": 30,
   "metadata": {
    "collapsed": true
   },
   "outputs": [],
   "source": [
    "X = tf.placeholder(tf.float32, name = 'X')\n",
    "Y = tf.placeholder(tf.float32, name = 'Y')\n",
    "\n",
    "sess = tf.InteractiveSession()"
   ]
  },
  {
   "cell_type": "code",
   "execution_count": 31,
   "metadata": {
    "collapsed": false
   },
   "outputs": [],
   "source": [
    "n = tf.random_normal([1000]).eval()\n",
    "n_ = tf.random_normal([1000], stddev = 0.1).eval()"
   ]
  },
  {
   "cell_type": "code",
   "execution_count": 32,
   "metadata": {
    "collapsed": false
   },
   "outputs": [
    {
     "data": {
      "text/plain": [
       "(array([   3.,   15.,   54.,  138.,  215.,  247.,  177.,  102.,   41.,    8.]),\n",
       " array([-0.33938691, -0.27555938, -0.21173185, -0.14790431, -0.08407678,\n",
       "        -0.02024925,  0.04357828,  0.10740582,  0.17123335,  0.23506088,\n",
       "         0.29888842]),\n",
       " <a list of 10 Patch objects>)"
      ]
     },
     "execution_count": 32,
     "metadata": {},
     "output_type": "execute_result"
    },
    {
     "data": {
      "image/png": "[encoded data removed]",
      "text/plain": [
       "<matplotlib.figure.Figure at 0x7f57f477b1d0>"
      ]
     },
     "metadata": {},
     "output_type": "display_data"
    }
   ],
   "source": [
    "plt.hist(n) # plt.hist(n, 20) gives answer with 20 buckets\n",
    "plt.hist(n_) # We need initial values much closer to 0 for initializing the weights"
   ]
  },
  {
   "cell_type": "markdown",
   "metadata": {},
   "source": [
    "#### We need two parameters, weight W and bias B for our model"
   ]
  },
  {
   "cell_type": "code",
   "execution_count": 41,
   "metadata": {
    "collapsed": false
   },
   "outputs": [],
   "source": [
    "W = tf.Variable(tf.random_normal([1], stddev=0.1), name = 'weight')\n",
    "B = tf.Variable(0.0, name = 'bias')"
   ]
  },
  {
   "cell_type": "markdown",
   "metadata": {},
   "source": [
    "#### We need to define model, and a cost function"
   ]
  },
  {
   "cell_type": "code",
   "execution_count": 49,
   "metadata": {
    "collapsed": false
   },
   "outputs": [],
   "source": [
    "# Perceptron model (or Linear regression)\n",
    "Y_ = X*W + B  "
   ]
  },
  {
   "cell_type": "code",
   "execution_count": 50,
   "metadata": {
    "collapsed": true
   },
   "outputs": [],
   "source": [
    "def distance(y, y_):\n",
    "    return tf.abs(y-y_)"
   ]
  },
  {
   "cell_type": "code",
   "execution_count": 51,
   "metadata": {
    "collapsed": true
   },
   "outputs": [],
   "source": [
    "# cost = distance(Y_, tf.sin(X))\n",
    "cost = tf.reduce_mean(distance(Y_, Y))"
   ]
  },
  {
   "cell_type": "code",
   "execution_count": 52,
   "metadata": {
    "collapsed": true
   },
   "outputs": [],
   "source": [
    "optimizer = tf.train.GradientDescentOptimizer(learning_rate = 0.01).minimize(cost)"
   ]
  },
  {
   "cell_type": "markdown",
   "metadata": {},
   "source": [
    "### Now we have defined the variables, we need to run the code\n",
    "#### Before we run the code, we must also run the variables using tf.initialize_all_variables() to give an initial value to W and B."
   ]
  },
  {
   "cell_type": "code",
   "execution_count": 69,
   "metadata": {
    "collapsed": false
   },
   "outputs": [
    {
     "name": "stdout",
     "output_type": "stream",
     "text": [
      "0.424051 [ 0.37850231] 0.00121984\n",
      "0.424051 [ 0.37850681] 0.00119984\n",
      "0.424051 [ 0.37851125] 0.00119984\n",
      "0.424051 [ 0.37851569] 0.00119984\n",
      "0.424051 [ 0.37850001] 0.00121984\n",
      "0.424051 [ 0.37850451] 0.00119984\n",
      "0.424051 [ 0.37850896] 0.00119984\n",
      "0.424051 [ 0.3785134] 0.00119984\n",
      "0.424051 [ 0.37851784] 0.00119984\n",
      "0.424051 [ 0.37850216] 0.00121984\n",
      "0.424051 [ 0.37850666] 0.00119984\n",
      "0.424051 [ 0.3785111] 0.00119984\n",
      "0.424051 [ 0.37851554] 0.00119984\n",
      "0.424051 [ 0.37851998] 0.00119984\n",
      "0.424051 [ 0.37850431] 0.00121984\n",
      "0.424051 [ 0.37850881] 0.00119984\n",
      "0.424051 [ 0.37851325] 0.00119984\n",
      "0.424051 [ 0.37851769] 0.00119984\n",
      "0.424051 [ 0.37850201] 0.00121984\n",
      "0.424051 [ 0.37850651] 0.00119984\n",
      "0.424051 [ 0.37851095] 0.00119984\n",
      "0.424051 [ 0.37851539] 0.00119984\n",
      "0.424051 [ 0.37851983] 0.00119984\n",
      "0.424051 [ 0.37850416] 0.00121984\n",
      "0.424051 [ 0.37850866] 0.00119984\n",
      "0.424051 [ 0.3785131] 0.00119984\n",
      "0.424051 [ 0.37851754] 0.00119984\n",
      "0.424051 [ 0.37850186] 0.00121984\n",
      "0.424051 [ 0.37850636] 0.00119984\n",
      "0.424051 [ 0.3785108] 0.00119984\n",
      "0.424051 [ 0.37851524] 0.00119984\n",
      "0.424051 [ 0.37851968] 0.00119984\n",
      "0.424051 [ 0.37850401] 0.00121984\n",
      "0.424051 [ 0.37850851] 0.00119984\n",
      "0.424051 [ 0.37851295] 0.00119984\n",
      "0.424051 [ 0.37851739] 0.00119984\n",
      "0.424051 [ 0.37850171] 0.00121984\n",
      "0.424051 [ 0.37850621] 0.00119984\n",
      "0.424051 [ 0.37851065] 0.00119984\n",
      "0.424051 [ 0.37851509] 0.00119984\n",
      "0.424051 [ 0.37851954] 0.00119984\n",
      "0.424051 [ 0.37850386] 0.00121984\n",
      "0.424051 [ 0.37850836] 0.00119984\n",
      "0.424051 [ 0.3785128] 0.00119984\n",
      "0.424051 [ 0.37851724] 0.00119984\n",
      "0.424051 [ 0.37850156] 0.00121984\n",
      "0.424051 [ 0.37850606] 0.00119984\n",
      "0.424051 [ 0.3785105] 0.00119984\n",
      "0.424051 [ 0.37851495] 0.00119984\n",
      "0.424051 [ 0.37851939] 0.00119984\n",
      "0.424051 [ 0.37850371] 0.00121984\n",
      "0.424051 [ 0.37850821] 0.00119984\n",
      "0.424051 [ 0.37851265] 0.00119984\n",
      "0.424051 [ 0.37851709] 0.00119984\n",
      "0.424051 [ 0.37850142] 0.00121984\n",
      "0.424051 [ 0.37850592] 0.00119984\n",
      "0.424051 [ 0.37851036] 0.00119984\n",
      "0.424051 [ 0.3785148] 0.00119984\n",
      "0.424051 [ 0.37851924] 0.00119984\n",
      "0.424051 [ 0.37850356] 0.00121984\n",
      "0.424051 [ 0.37850806] 0.00119984\n",
      "0.424051 [ 0.3785125] 0.00119984\n",
      "0.424051 [ 0.37851694] 0.00119983\n",
      "0.424051 [ 0.37850127] 0.00121983\n",
      "0.424051 [ 0.37850577] 0.00119983\n",
      "0.424051 [ 0.37851021] 0.00119983\n",
      "0.424051 [ 0.37851465] 0.00119983\n",
      "0.424051 [ 0.37851909] 0.00119983\n",
      "0.424051 [ 0.37850341] 0.00121983\n",
      "0.424051 [ 0.37850791] 0.00119983\n",
      "0.424051 [ 0.37851235] 0.00119983\n",
      "0.424051 [ 0.37851679] 0.00119983\n",
      "0.424051 [ 0.37850112] 0.00121983\n",
      "0.424051 [ 0.37850562] 0.00119983\n",
      "0.424051 [ 0.37851006] 0.00119983\n",
      "0.424051 [ 0.3785145] 0.00119983\n",
      "0.424051 [ 0.37851894] 0.00119983\n",
      "0.424051 [ 0.37850326] 0.00121983\n",
      "0.424051 [ 0.37850776] 0.00119983\n",
      "0.424051 [ 0.3785122] 0.00119983\n",
      "0.424051 [ 0.37851664] 0.00119983\n",
      "0.424051 [ 0.37850097] 0.00121983\n",
      "0.424051 [ 0.37850547] 0.00119983\n",
      "0.424051 [ 0.37850991] 0.00119983\n",
      "0.424051 [ 0.37851435] 0.00119983\n",
      "0.424051 [ 0.37851879] 0.00119983\n",
      "0.424051 [ 0.37850311] 0.00121983\n",
      "0.424051 [ 0.37850761] 0.00119983\n",
      "0.424051 [ 0.37851205] 0.00119983\n",
      "0.424051 [ 0.3785165] 0.00119983\n",
      "0.424051 [ 0.37850082] 0.00121983\n",
      "0.424051 [ 0.37850532] 0.00119983\n",
      "0.424051 [ 0.37850976] 0.00119983\n",
      "0.424051 [ 0.3785142] 0.00119983\n",
      "0.424051 [ 0.37851864] 0.00119983\n",
      "0.424051 [ 0.37850296] 0.00121983\n",
      "0.424051 [ 0.37850747] 0.00119983\n",
      "0.424051 [ 0.37851191] 0.00119983\n",
      "0.424051 [ 0.37851635] 0.00119983\n",
      "0.424051 [ 0.37850067] 0.00121983\n"
     ]
    }
   ],
   "source": [
    "n_iterations = 100\n",
    "sess.run(tf.initialize_all_variables())\n",
    "for _ in range(n_iterations):\n",
    "    sess.run(optimizer, feed_dict = {X:xs, Y:ys})\n",
    "    training_cost = sess.run(cost, feed_dict = {X:xs, Y:ys})\n",
    "    \n",
    "    # This is how to print the values mid execution\n",
    "    print training_cost, sess.run(W), sess.run(B)"
   ]
  }
 ],
 "metadata": {
  "kernelspec": {
   "display_name": "Python [Root]",
   "language": "python",
   "name": "Python [Root]"
  },
  "language_info": {
   "codemirror_mode": {
    "name": "ipython",
    "version": 2
   },
   "file_extension": ".py",
   "mimetype": "text/x-python",
   "name": "python",
   "nbconvert_exporter": "python",
   "pygments_lexer": "ipython2",
   "version": "2.7.12"
  }
 },
 "nbformat": 4,
 "nbformat_minor": 0
}
