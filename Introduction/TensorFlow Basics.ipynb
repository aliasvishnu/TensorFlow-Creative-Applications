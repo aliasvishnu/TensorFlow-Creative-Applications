{
 "cells": [
  {
   "cell_type": "markdown",
   "metadata": {},
   "source": [
    "# TensorFlow Basics & Convolution\n",
    "\n",
    "TensorFlow does not do computation immediately but constructs a graph. We define everything that we want to compute, in a graph and running it requires a session.\n",
    "\n",
    "### Intro"
   ]
  },
  {
   "cell_type": "code",
   "execution_count": 90,
   "metadata": {
    "collapsed": true
   },
   "outputs": [],
   "source": [
    "import tensorflow as tf\n",
    "import numpy as np\n",
    "import matplotlib.pyplot as plt"
   ]
  },
  {
   "cell_type": "code",
   "execution_count": 91,
   "metadata": {
    "collapsed": false,
    "scrolled": true
   },
   "outputs": [
    {
     "name": "stdout",
     "output_type": "stream",
     "text": [
      "[-3.  -1.5  0.   1.5  3. ]\n"
     ]
    }
   ],
   "source": [
    "x = np.linspace(-3, 3, 5) # Computes values immediately\n",
    "print x"
   ]
  },
  {
   "cell_type": "markdown",
   "metadata": {},
   "source": [
    "LinSpace:0 means output of LinSpace. TensorFlow doesn't compute the values immediately. It only specifies the nature of the output of a TF operation, also called an Op node."
   ]
  },
  {
   "cell_type": "code",
   "execution_count": 94,
   "metadata": {
    "collapsed": false
   },
   "outputs": [
    {
     "name": "stdout",
     "output_type": "stream",
     "text": [
      "Tensor(\"LinSpace_11:0\", shape=(100,), dtype=float32)\n"
     ]
    }
   ],
   "source": [
    "x = tf.linspace(-3.0, 3.0, 100) # Doesn't compute immediately\n",
    "# Note that tf.linspace(-3, 3, 5) gives an error because datatypes are\n",
    "# mismatched\n",
    "print (x)"
   ]
  },
  {
   "cell_type": "markdown",
   "metadata": {},
   "source": [
    "We can get the elements of the graph by doing as follows. We can also get the output of a certain node in the graph"
   ]
  },
  {
   "cell_type": "code",
   "execution_count": 95,
   "metadata": {
    "collapsed": false
   },
   "outputs": [
    {
     "name": "stdout",
     "output_type": "stream",
     "text": [
      "[u'LinSpace/start', u'LinSpace_1/start', u'LinSpace_1/stop', u'LinSpace_1/num', u'LinSpace_1', u'LinSpace_2/start', u'LinSpace_2/stop', u'LinSpace_2/num', u'LinSpace_2', u'LinSpace_3/start', u'LinSpace_3/stop', u'LinSpace_3/num', u'LinSpace_3', u'LinSpace_4/start', u'LinSpace_4/stop', u'LinSpace_4/num', u'LinSpace_4', u'LinSpace_5/start', u'LinSpace_5/stop', u'LinSpace_5/num', u'LinSpace_5', u'LinSpace_6/start', u'LinSpace_6/stop', u'LinSpace_6/num', u'LinSpace_6', u'LinSpace_7/start', u'LinSpace_7/stop', u'LinSpace_7/num', u'LinSpace_7', u'Sqrt/x', u'Sqrt', u'mul/y', u'mul', u'div/x', u'div', u'sub/y', u'sub', u'Pow/y', u'Pow', u'Pow_1/x', u'Pow_1/y', u'Pow_1', u'mul_1/x', u'mul_1', u'div_1', u'mul_2/x', u'mul_2', u'Exp', u'mul_3', u'Sqrt_1/x', u'Sqrt_1', u'mul_4/y', u'mul_4', u'div_2/x', u'div_2', u'sub_1/y', u'sub_1', u'Pow_2/y', u'Pow_2', u'Pow_3/x', u'Pow_3/y', u'Pow_3', u'mul_5/x', u'mul_5', u'div_3', u'mul_6/x', u'mul_6', u'Exp_1', u'mul_7', u'Sqrt_2/x', u'Sqrt_2', u'mul_8/y', u'mul_8', u'div_4/x', u'div_4', u'sub_2/y', u'sub_2', u'Pow_4/y', u'Pow_4', u'Pow_5/x', u'Pow_5/y', u'Pow_5', u'mul_9/x', u'mul_9', u'div_5', u'mul_10/x', u'mul_10', u'Exp_2', u'mul_11', u'Sqrt_3/x', u'Sqrt_3', u'mul_12/y', u'mul_12', u'div_6/x', u'div_6', u'sub_3/y', u'sub_3', u'Pow_6/y', u'Pow_6', u'Pow_7/x', u'Pow_7/y', u'Pow_7', u'mul_13/x', u'mul_13', u'div_7', u'mul_14/x', u'mul_14', u'Exp_3', u'mul_15', u'Sqrt_4/x', u'Sqrt_4', u'mul_16/y', u'mul_16', u'div_8/x', u'div_8', u'sub_4/y', u'sub_4', u'Pow_8/y', u'Pow_8', u'Pow_9/x', u'Pow_9/y', u'Pow_9', u'mul_17/x', u'mul_17', u'div_9', u'mul_18/x', u'mul_18', u'Exp_4', u'mul_19', u'Sqrt_5/x', u'Sqrt_5', u'mul_20/y', u'mul_20', u'div_10/x', u'div_10', u'sub_5/y', u'sub_5', u'Pow_10/y', u'Pow_10', u'Pow_11/x', u'Pow_11/y', u'Pow_11', u'mul_21/x', u'mul_21', u'div_11', u'mul_22/x', u'mul_22', u'Exp_5', u'mul_23', u'Reshape/shape', u'Reshape', u'Reshape_1/shape', u'Reshape_1', u'Reshape_2/shape', u'Reshape_2', u'Reshape_3/shape', u'Reshape_3', u'MatMul_2', u'Reshape_4/shape', u'Reshape_4', u'Reshape_5/shape', u'Reshape_5', u'MatMul_3', u'Reshape_6/shape', u'Reshape_6', u'Reshape_7/shape', u'Reshape_7', u'MatMul_4', u'Reshape_8/shape', u'Reshape_8', u'Reshape_9/shape', u'Reshape_9', u'MatMul_5', u'LinSpace_8/start', u'LinSpace_8/stop', u'LinSpace_8/num', u'LinSpace_8', u'Reshape_10/shape', u'Reshape_10', u'Reshape_11/shape', u'Reshape_11', u'MatMul_6', u'Sqrt_6/x', u'Sqrt_6', u'mul_24/y', u'mul_24', u'div_12/x', u'div_12', u'sub_6/y', u'sub_6', u'Pow_12/y', u'Pow_12', u'Pow_13/x', u'Pow_13/y', u'Pow_13', u'mul_25/x', u'mul_25', u'div_13', u'mul_26/x', u'mul_26', u'Exp_6', u'mul_27', u'Reshape_12/shape', u'Reshape_12', u'Reshape_13/shape', u'Reshape_13', u'MatMul_7', u'LinSpace_9/start', u'LinSpace_9/stop', u'LinSpace_9/num', u'LinSpace_9', u'Reshape_14/shape', u'Reshape_14', u'Reshape_15/shape', u'Reshape_15', u'MatMul_8', u'Sqrt_7/x', u'Sqrt_7', u'mul_28/y', u'mul_28', u'div_14/x', u'div_14', u'sub_7/y', u'sub_7', u'Pow_14/y', u'Pow_14', u'Pow_15/x', u'Pow_15/y', u'Pow_15', u'mul_29/x', u'mul_29', u'div_15', u'mul_30/x', u'mul_30', u'Exp_7', u'mul_31', u'Reshape_16/shape', u'Reshape_16', u'Reshape_17/shape', u'Reshape_17', u'MatMul_9', u'Reshape_18/tensor', u'Reshape_18/shape', u'Reshape_18', u'Reshape_19/shape', u'Reshape_19', u'Reshape_20/shape', u'Reshape_20', u'MatMul_10', u'Reshape_21/tensor', u'Reshape_21/shape', u'Reshape_21', u'Conv2D', u'Conv2D_1', u'Conv2D_2', u'LinSpace_10/start', u'LinSpace_10/stop', u'LinSpace_10/num', u'LinSpace_10', u'LinSpace_11/start', u'LinSpace_11/stop', u'LinSpace_11/num', u'LinSpace_11']\n",
      "Tensor(\"LinSpace_1:0\", shape=(5,), dtype=float32)\n"
     ]
    }
   ],
   "source": [
    "g = tf.get_default_graph()\n",
    "print [op.name for op in g.get_operations()] # List of ops\n",
    "print g.get_tensor_by_name('LinSpace_1:0')\n",
    "# Note that LinSpace has a :0 at the end of it. \n",
    "# Without :0, it refers to the Node itself, with :0 it refers to the \n",
    "# Tensor"
   ]
  },
  {
   "cell_type": "markdown",
   "metadata": {},
   "source": [
    "### Session\n",
    "In order to get run a TF program, we need a session. The session computes the graph we construct. Here's an example."
   ]
  },
  {
   "cell_type": "code",
   "execution_count": 96,
   "metadata": {
    "collapsed": false
   },
   "outputs": [],
   "source": [
    "sess = tf.Session()\n",
    "\n",
    "# We can ask a session to compute the value of a node\n",
    "computed_x = sess.run(x)\n",
    "# print (computed_x)\n",
    "\n",
    "# Or we can ask the node to compute itself using the session\n",
    "computed_x = x.eval(session = sess)\n",
    "\n",
    "# print computed_x\n",
    "\n",
    "# We can close the session by doing this\n",
    "sess.close()"
   ]
  },
  {
   "cell_type": "markdown",
   "metadata": {},
   "source": [
    "We can ask TF to create a new graph and have it be connected to another session. We are allowed to have multiple sessions running at the same time."
   ]
  },
  {
   "cell_type": "code",
   "execution_count": 97,
   "metadata": {
    "collapsed": false
   },
   "outputs": [
    {
     "name": "stdout",
     "output_type": "stream",
     "text": [
      "<tensorflow.python.framework.ops.Graph object at 0x7f9f88a7c510>\n",
      "<tensorflow.python.client.session.Session object at 0x7f9f88a7c190>\n"
     ]
    }
   ],
   "source": [
    "g = tf.get_default_graph() # Fetch the default graph\n",
    "g2 = tf.Graph()\n",
    "print g2\n",
    "sess2 = tf.Session(graph = g2)\n",
    "print sess2"
   ]
  },
  {
   "cell_type": "markdown",
   "metadata": {},
   "source": [
    "##### Interactive Session - This is a way to run session in environments like notebooks where you don't want to pass around a session variable. But it's just like a session. Here's how to create one. Also this behaves more like a normal python program. You have to recompute the formula if you want updates. For example, z is defined below in the gaussian curve example. You have to rerun the formula after changing x to get new z. Just running z.eval() won't do it. However, in a normal session, it will."
   ]
  },
  {
   "cell_type": "code",
   "execution_count": 98,
   "metadata": {
    "collapsed": false
   },
   "outputs": [],
   "source": [
    "sess = tf.InteractiveSession()\n",
    "# print x.eval()"
   ]
  },
  {
   "cell_type": "code",
   "execution_count": 99,
   "metadata": {
    "collapsed": false
   },
   "outputs": [
    {
     "name": "stdout",
     "output_type": "stream",
     "text": [
      "(100,)\n",
      "[100]\n"
     ]
    }
   ],
   "source": [
    "print x.get_shape() # x.shape\n",
    "print x.get_shape().as_list() # x.shape.tolist()"
   ]
  },
  {
   "cell_type": "markdown",
   "metadata": {},
   "source": [
    "### Example - Creating a Gaussian Curve"
   ]
  },
  {
   "cell_type": "code",
   "execution_count": 100,
   "metadata": {
    "collapsed": false
   },
   "outputs": [],
   "source": [
    "mean = 0\n",
    "sigma = 1.0\n",
    "z = 1.0/(tf.sqrt(2*3.14)*sigma) * (tf.exp(-1*(tf.pow(x-mean, 2)/(2*tf.pow(sigma, 2)))))\n",
    "\n",
    "res = z.eval() # Note that x is already defined from above\n",
    "plt.plot(res)\n",
    "plt.show()"
   ]
  },
  {
   "cell_type": "markdown",
   "metadata": {},
   "source": [
    "### Making it into a 2D Gaussian"
   ]
  },
  {
   "cell_type": "code",
   "execution_count": 101,
   "metadata": {
    "collapsed": false
   },
   "outputs": [],
   "source": [
    "l = z.get_shape().as_list()[0]\n",
    "res2d = tf.matmul(tf.reshape(z, [l, 1]), tf.reshape(z, [1, l])).eval()\n",
    "plt.imshow(res2d)\n",
    "plt.show()"
   ]
  },
  {
   "cell_type": "markdown",
   "metadata": {},
   "source": [
    "# Convolution"
   ]
  },
  {
   "cell_type": "markdown",
   "metadata": {},
   "source": [
    "Loading 'camera' images from sklearn"
   ]
  },
  {
   "cell_type": "code",
   "execution_count": 102,
   "metadata": {
    "collapsed": true
   },
   "outputs": [],
   "source": [
    "from skimage import data\n",
    "img = data.camera().astype(np.float32)"
   ]
  },
  {
   "cell_type": "code",
   "execution_count": 103,
   "metadata": {
    "collapsed": true
   },
   "outputs": [],
   "source": [
    "plt.imshow(img, cmap='gray')\n",
    "plt.show()"
   ]
  },
  {
   "cell_type": "markdown",
   "metadata": {},
   "source": [
    "#### Convolution operation in TF takes in a 4d tensor for images. The dimensions are (Batch x Height x Width x Channel). Our image is grayscale. So we reshape it using numpy into 4d as shown below."
   ]
  },
  {
   "cell_type": "code",
   "execution_count": 104,
   "metadata": {
    "collapsed": false
   },
   "outputs": [
    {
     "name": "stdout",
     "output_type": "stream",
     "text": [
      "(1, 512, 512, 1)\n"
     ]
    }
   ],
   "source": [
    "# Image shape is 512x512\n",
    "img4d = tf.reshape(img, [1, img.shape[0], img.shape[1], 1])\n",
    "print img4d.get_shape()"
   ]
  },
  {
   "cell_type": "markdown",
   "metadata": {},
   "source": [
    "#### For the convolution operation we need to provide the specifics of the kernels - Height x Width x Channel x Number of kernels. Let's now convert our gaussian kernel in this format and convolve our image."
   ]
  },
  {
   "cell_type": "code",
   "execution_count": 105,
   "metadata": {
    "collapsed": false
   },
   "outputs": [
    {
     "name": "stdout",
     "output_type": "stream",
     "text": [
      "(100, 100, 1, 1)\n"
     ]
    }
   ],
   "source": [
    "l = res2d.shape[0]\n",
    "kernel = tf.reshape(res2d, [l, l, 1, 1])\n",
    "print kernel.get_shape()"
   ]
  },
  {
   "cell_type": "code",
   "execution_count": 106,
   "metadata": {
    "collapsed": true
   },
   "outputs": [],
   "source": [
    "# Convolution operation\n",
    "convolved = tf.nn.conv2d(img4d, kernel, strides = [1, 1, 1, 1],\n",
    "                        padding = 'SAME')"
   ]
  },
  {
   "cell_type": "code",
   "execution_count": 109,
   "metadata": {
    "collapsed": false
   },
   "outputs": [],
   "source": [
    "plt.imshow(convolved.eval()[0, :, :, 0], cmap = 'gray')\n",
    "plt.show()"
   ]
  },
  {
   "cell_type": "code",
   "execution_count": null,
   "metadata": {
    "collapsed": true
   },
   "outputs": [],
   "source": []
  }
 ],
 "metadata": {
  "kernelspec": {
   "display_name": "Python [Root]",
   "language": "python",
   "name": "Python [Root]"
  },
  "language_info": {
   "codemirror_mode": {
    "name": "ipython",
    "version": 2
   },
   "file_extension": ".py",
   "mimetype": "text/x-python",
   "name": "python",
   "nbconvert_exporter": "python",
   "pygments_lexer": "ipython2",
   "version": "2.7.12"
  }
 },
 "nbformat": 4,
 "nbformat_minor": 0
}
